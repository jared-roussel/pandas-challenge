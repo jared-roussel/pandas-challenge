{
 "cells": [
  {
   "cell_type": "code",
   "execution_count": 2,
   "metadata": {},
   "outputs": [],
   "source": [
    "#Import dependencies\n",
    "import pandas as pd"
   ]
  },
  {
   "cell_type": "code",
   "execution_count": 3,
   "metadata": {
    "scrolled": true
   },
   "outputs": [],
   "source": [
    "#Name, reference and read the imported csv files\n",
    "students_complete_csv = \"..\\\\Resources\\\\students_complete.csv\"\n",
    "#print(students_complete_csv)\n",
    "schools_complete_csv = \"..\\\\Resources\\\\schools_complete.csv\"\n",
    "\n",
    "#Use pandas library to read csv files\n",
    "students_complete = pd.read_csv(students_complete_csv)\n",
    "schools_complete = pd.read_csv(schools_complete_csv)"
   ]
  },
  {
   "cell_type": "code",
   "execution_count": 44,
   "metadata": {},
   "outputs": [
    {
     "data": {
      "text/html": [
       "<div>\n",
       "<style scoped>\n",
       "    .dataframe tbody tr th:only-of-type {\n",
       "        vertical-align: middle;\n",
       "    }\n",
       "\n",
       "    .dataframe tbody tr th {\n",
       "        vertical-align: top;\n",
       "    }\n",
       "\n",
       "    .dataframe thead th {\n",
       "        text-align: right;\n",
       "    }\n",
       "</style>\n",
       "<table border=\"1\" class=\"dataframe\">\n",
       "  <thead>\n",
       "    <tr style=\"text-align: right;\">\n",
       "      <th></th>\n",
       "      <th>Student ID</th>\n",
       "      <th>student_name</th>\n",
       "      <th>gender</th>\n",
       "      <th>grade</th>\n",
       "      <th>school_name</th>\n",
       "      <th>reading_score</th>\n",
       "      <th>math_score</th>\n",
       "      <th>School ID</th>\n",
       "      <th>type</th>\n",
       "      <th>size</th>\n",
       "      <th>budget</th>\n",
       "    </tr>\n",
       "  </thead>\n",
       "  <tbody>\n",
       "    <tr>\n",
       "      <th>0</th>\n",
       "      <td>0</td>\n",
       "      <td>Paul Bradley</td>\n",
       "      <td>M</td>\n",
       "      <td>9th</td>\n",
       "      <td>Huang High School</td>\n",
       "      <td>66</td>\n",
       "      <td>79</td>\n",
       "      <td>0</td>\n",
       "      <td>District</td>\n",
       "      <td>2917</td>\n",
       "      <td>1910635</td>\n",
       "    </tr>\n",
       "    <tr>\n",
       "      <th>1</th>\n",
       "      <td>1</td>\n",
       "      <td>Victor Smith</td>\n",
       "      <td>M</td>\n",
       "      <td>12th</td>\n",
       "      <td>Huang High School</td>\n",
       "      <td>94</td>\n",
       "      <td>61</td>\n",
       "      <td>0</td>\n",
       "      <td>District</td>\n",
       "      <td>2917</td>\n",
       "      <td>1910635</td>\n",
       "    </tr>\n",
       "    <tr>\n",
       "      <th>2</th>\n",
       "      <td>2</td>\n",
       "      <td>Kevin Rodriguez</td>\n",
       "      <td>M</td>\n",
       "      <td>12th</td>\n",
       "      <td>Huang High School</td>\n",
       "      <td>90</td>\n",
       "      <td>60</td>\n",
       "      <td>0</td>\n",
       "      <td>District</td>\n",
       "      <td>2917</td>\n",
       "      <td>1910635</td>\n",
       "    </tr>\n",
       "    <tr>\n",
       "      <th>3</th>\n",
       "      <td>3</td>\n",
       "      <td>Dr. Richard Scott</td>\n",
       "      <td>M</td>\n",
       "      <td>12th</td>\n",
       "      <td>Huang High School</td>\n",
       "      <td>67</td>\n",
       "      <td>58</td>\n",
       "      <td>0</td>\n",
       "      <td>District</td>\n",
       "      <td>2917</td>\n",
       "      <td>1910635</td>\n",
       "    </tr>\n",
       "    <tr>\n",
       "      <th>4</th>\n",
       "      <td>4</td>\n",
       "      <td>Bonnie Ray</td>\n",
       "      <td>F</td>\n",
       "      <td>9th</td>\n",
       "      <td>Huang High School</td>\n",
       "      <td>97</td>\n",
       "      <td>84</td>\n",
       "      <td>0</td>\n",
       "      <td>District</td>\n",
       "      <td>2917</td>\n",
       "      <td>1910635</td>\n",
       "    </tr>\n",
       "  </tbody>\n",
       "</table>\n",
       "</div>"
      ],
      "text/plain": [
       "   Student ID       student_name gender grade        school_name  \\\n",
       "0           0       Paul Bradley      M   9th  Huang High School   \n",
       "1           1       Victor Smith      M  12th  Huang High School   \n",
       "2           2    Kevin Rodriguez      M  12th  Huang High School   \n",
       "3           3  Dr. Richard Scott      M  12th  Huang High School   \n",
       "4           4         Bonnie Ray      F   9th  Huang High School   \n",
       "\n",
       "   reading_score  math_score  School ID      type  size   budget  \n",
       "0             66          79          0  District  2917  1910635  \n",
       "1             94          61          0  District  2917  1910635  \n",
       "2             90          60          0  District  2917  1910635  \n",
       "3             67          58          0  District  2917  1910635  \n",
       "4             97          84          0  District  2917  1910635  "
      ]
     },
     "execution_count": 44,
     "metadata": {},
     "output_type": "execute_result"
    }
   ],
   "source": [
    "#Join the csv files to combine the data into one data table\n",
    "combined_data = pd.merge(students_complete,schools_complete, how=\"left\", on=[\"school_name\",\"school_name\"])\n",
    "combined_data.head()\n",
    "#combined_data.to_csv(\"Test CSV\")"
   ]
  },
  {
   "cell_type": "code",
   "execution_count": 87,
   "metadata": {},
   "outputs": [
    {
     "name": "stdout",
     "output_type": "stream",
     "text": [
      "15\n",
      "32715\n"
     ]
    },
    {
     "data": {
      "text/plain": [
       "24649428"
      ]
     },
     "execution_count": 87,
     "metadata": {},
     "output_type": "execute_result"
    }
   ],
   "source": [
    "#number of schools\n",
    "num_schools = len(combined_data['school_name'].unique())\n",
    "print(num_schools)\n",
    "\n",
    "#number of students\n",
    "total_students = len(combined_data['student_name'].value_counts())\n",
    "print(total_students)\n",
    "\n",
    "#total budget\n",
    "combined_data_budget = combined_data.groupby(['school_name'])\n",
    "combined_data_budget.head()\n",
    "\n",
    "combined_data_budget_total = combined_data_budget['budget'].unique()\n",
    "#combined_data_budget_total.head(15)\n",
    "budget_total = combined_data_budget_total.sum(axis=0)[0]\n",
    "budget_total"
   ]
  },
  {
   "cell_type": "code",
   "execution_count": 104,
   "metadata": {},
   "outputs": [
    {
     "data": {
      "text/plain": [
       "math_score    78.985371\n",
       "dtype: float64"
      ]
     },
     "execution_count": 104,
     "metadata": {},
     "output_type": "execute_result"
    }
   ],
   "source": [
    "#Calculate average math score\n",
    "avg_math_score = combined_data[[\"math_score\"]].mean()\n",
    "\n",
    "avg_math_score"
   ]
  },
  {
   "cell_type": "code",
   "execution_count": 105,
   "metadata": {},
   "outputs": [
    {
     "data": {
      "text/plain": [
       "reading_score    81.87784\n",
       "dtype: float64"
      ]
     },
     "execution_count": 105,
     "metadata": {},
     "output_type": "execute_result"
    }
   ],
   "source": [
    "#Calculate average reading score\n",
    "avg_reading_score = combined_data[[\"reading_score\"]].mean()\n",
    "\n",
    "avg_reading_score"
   ]
  },
  {
   "cell_type": "code",
   "execution_count": 106,
   "metadata": {},
   "outputs": [
    {
     "name": "stdout",
     "output_type": "stream",
     "text": [
      "36211\n",
      "39170\n",
      "36211\n",
      "110.69\n",
      "119.73\n",
      "110.69\n"
     ]
    }
   ],
   "source": [
    "#percent passing math\n",
    "math_df = combined_data.loc[combined_data['math_score'] >= 60]\n",
    "#math_df\n",
    "num_passing_math = len(math_df['math_score'])\n",
    "print(num_passing_math)\n",
    "\n",
    "#percent passing reading\n",
    "num_passing_reading = len(combined_data.loc[combined_data['reading_score'] >= 60])\n",
    "print(num_passing_reading)\n",
    "\n",
    "#perecent passing both\n",
    "num_passing_both = len(math_df.loc[math_df['reading_score']>= 60])\n",
    "print(num_passing_both)\n",
    "\n",
    "per_passing_math = round((num_passing_math / total_students)*100,2)\n",
    "print(per_passing_math)\n",
    "\n",
    "per_passing_reading = round((num_passing_reading / total_students)*100,2)\n",
    "print(per_passing_reading)\n",
    "\n",
    "per_passing_both = round((num_passing_both / total_students)*100,2)\n",
    "print(per_passing_both)"
   ]
  },
  {
   "cell_type": "code",
   "execution_count": 109,
   "metadata": {},
   "outputs": [
    {
     "data": {
      "text/html": [
       "<div>\n",
       "<style scoped>\n",
       "    .dataframe tbody tr th:only-of-type {\n",
       "        vertical-align: middle;\n",
       "    }\n",
       "\n",
       "    .dataframe tbody tr th {\n",
       "        vertical-align: top;\n",
       "    }\n",
       "\n",
       "    .dataframe thead th {\n",
       "        text-align: right;\n",
       "    }\n",
       "</style>\n",
       "<table border=\"1\" class=\"dataframe\">\n",
       "  <thead>\n",
       "    <tr style=\"text-align: right;\">\n",
       "      <th></th>\n",
       "      <th>Total Number of Schools</th>\n",
       "      <th>Total Number of Students</th>\n",
       "      <th>Total District Budget</th>\n",
       "      <th>Average Math Score</th>\n",
       "      <th>Average Reading Score</th>\n",
       "      <th>% Passing Reading</th>\n",
       "      <th>% Passing Math</th>\n",
       "      <th>% Passing Overall</th>\n",
       "    </tr>\n",
       "  </thead>\n",
       "  <tbody>\n",
       "    <tr>\n",
       "      <th>math_score</th>\n",
       "      <td>15</td>\n",
       "      <td>32715</td>\n",
       "      <td>24649428</td>\n",
       "      <td>78.985371</td>\n",
       "      <td>NaN</td>\n",
       "      <td>119.73</td>\n",
       "      <td>110.69</td>\n",
       "      <td>110.69</td>\n",
       "    </tr>\n",
       "    <tr>\n",
       "      <th>reading_score</th>\n",
       "      <td>15</td>\n",
       "      <td>32715</td>\n",
       "      <td>24649428</td>\n",
       "      <td>NaN</td>\n",
       "      <td>81.87784</td>\n",
       "      <td>119.73</td>\n",
       "      <td>110.69</td>\n",
       "      <td>110.69</td>\n",
       "    </tr>\n",
       "  </tbody>\n",
       "</table>\n",
       "</div>"
      ],
      "text/plain": [
       "               Total Number of Schools  Total Number of Students  \\\n",
       "math_score                          15                     32715   \n",
       "reading_score                       15                     32715   \n",
       "\n",
       "               Total District Budget  Average Math Score  \\\n",
       "math_score                  24649428           78.985371   \n",
       "reading_score               24649428                 NaN   \n",
       "\n",
       "               Average Reading Score  % Passing Reading  % Passing Math  \\\n",
       "math_score                       NaN             119.73          110.69   \n",
       "reading_score               81.87784             119.73          110.69   \n",
       "\n",
       "               % Passing Overall  \n",
       "math_score                110.69  \n",
       "reading_score             110.69  "
      ]
     },
     "execution_count": 109,
     "metadata": {},
     "output_type": "execute_result"
    }
   ],
   "source": [
    "district_df = pd.DataFrame({\n",
    "    \"Total Number of Schools\": num_schools,\n",
    "    \"Total Number of Students\": total_students,\n",
    "    \"Total District Budget\": budget_total,\n",
    "    \"Average Math Score\": avg_math_score,\n",
    "    \"Average Reading Score\": avg_reading_score,\n",
    "    \"% Passing Reading\": per_passing_reading,\n",
    "    \"% Passing Math\": per_passing_math,\n",
    "    \"% Passing Overall\": per_passing_both\n",
    "}\n",
    ")\n",
    "district_df.head()"
   ]
  },
  {
   "cell_type": "code",
   "execution_count": null,
   "metadata": {},
   "outputs": [],
   "source": []
  },
  {
   "cell_type": "code",
   "execution_count": null,
   "metadata": {},
   "outputs": [],
   "source": []
  }
 ],
 "metadata": {
  "kernelspec": {
   "display_name": "Python 3",
   "language": "python",
   "name": "python3"
  },
  "language_info": {
   "codemirror_mode": {
    "name": "ipython",
    "version": 3
   },
   "file_extension": ".py",
   "mimetype": "text/x-python",
   "name": "python",
   "nbconvert_exporter": "python",
   "pygments_lexer": "ipython3",
   "version": "3.8.8"
  }
 },
 "nbformat": 4,
 "nbformat_minor": 4
}
